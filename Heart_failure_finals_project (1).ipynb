{
 "cells": [
  {
   "cell_type": "code",
   "execution_count": 2,
   "id": "236dc531",
   "metadata": {
    "scrolled": true
   },
   "outputs": [
    {
     "name": "stdout",
     "output_type": "stream",
     "text": [
      "    age  anaemia  creatinine_phosphokinase  diabetes  ejection_fraction  \\\n",
      "0  75.0        0                       582         0                 20   \n",
      "1  55.0        0                      7861         0                 38   \n",
      "2  65.0        0                       146         0                 20   \n",
      "3  50.0        1                       111         0                 20   \n",
      "4  65.0        1                       160         1                 20   \n",
      "\n",
      "   high_blood_pressure  platelets  serum_creatinine  serum_sodium  sex  \\\n",
      "0                    1  265000.00               1.9           130    1   \n",
      "1                    0  263358.03               1.1           136    1   \n",
      "2                    0  162000.00               1.3           129    1   \n",
      "3                    0  210000.00               1.9           137    1   \n",
      "4                    0  327000.00               2.7           116    0   \n",
      "\n",
      "   smoking  time  DEATH_EVENT  \n",
      "0        0     4            1  \n",
      "1        0     6            1  \n",
      "2        1     7            1  \n",
      "3        0     7            1  \n",
      "4        0     8            1  \n",
      "<bound method DataFrame.info of       age  anaemia  creatinine_phosphokinase  diabetes  ejection_fraction  \\\n",
      "0    75.0        0                       582         0                 20   \n",
      "1    55.0        0                      7861         0                 38   \n",
      "2    65.0        0                       146         0                 20   \n",
      "3    50.0        1                       111         0                 20   \n",
      "4    65.0        1                       160         1                 20   \n",
      "..    ...      ...                       ...       ...                ...   \n",
      "294  62.0        0                        61         1                 38   \n",
      "295  55.0        0                      1820         0                 38   \n",
      "296  45.0        0                      2060         1                 60   \n",
      "297  45.0        0                      2413         0                 38   \n",
      "298  50.0        0                       196         0                 45   \n",
      "\n",
      "     high_blood_pressure  platelets  serum_creatinine  serum_sodium  sex  \\\n",
      "0                      1  265000.00               1.9           130    1   \n",
      "1                      0  263358.03               1.1           136    1   \n",
      "2                      0  162000.00               1.3           129    1   \n",
      "3                      0  210000.00               1.9           137    1   \n",
      "4                      0  327000.00               2.7           116    0   \n",
      "..                   ...        ...               ...           ...  ...   \n",
      "294                    1  155000.00               1.1           143    1   \n",
      "295                    0  270000.00               1.2           139    0   \n",
      "296                    0  742000.00               0.8           138    0   \n",
      "297                    0  140000.00               1.4           140    1   \n",
      "298                    0  395000.00               1.6           136    1   \n",
      "\n",
      "     smoking  time  DEATH_EVENT  \n",
      "0          0     4            1  \n",
      "1          0     6            1  \n",
      "2          1     7            1  \n",
      "3          0     7            1  \n",
      "4          0     8            1  \n",
      "..       ...   ...          ...  \n",
      "294        1   270            0  \n",
      "295        0   271            0  \n",
      "296        0   278            0  \n",
      "297        1   280            0  \n",
      "298        1   285            0  \n",
      "\n",
      "[299 rows x 13 columns]>\n"
     ]
    }
   ],
   "source": [
    "import pandas as pd\n",
    "import matplotlib.pyplot as plt\n",
    "import seaborn as snss\n",
    "\n",
    "heart = pd.read_csv('heart_failure.csv')\n",
    "print(heart.head())\n",
    "print(heart.info)"
   ]
  },
  {
   "cell_type": "code",
   "execution_count": 21,
   "id": "9eef619a",
   "metadata": {},
   "outputs": [
    {
     "name": "stdout",
     "output_type": "stream",
     "text": [
      "Sex: \n",
      "<bound method Series.mode of 0      1\n",
      "1      1\n",
      "2      1\n",
      "3      1\n",
      "4      0\n",
      "      ..\n",
      "294    1\n",
      "295    0\n",
      "296    0\n",
      "297    1\n",
      "298    1\n",
      "Name: sex, Length: 299, dtype: int64>\n",
      "\n",
      "Age: \n",
      "<bound method NDFrame._add_numeric_operations.<locals>.mean of 0      75.0\n",
      "1      55.0\n",
      "2      65.0\n",
      "3      50.0\n",
      "4      65.0\n",
      "       ... \n",
      "294    62.0\n",
      "295    55.0\n",
      "296    45.0\n",
      "297    45.0\n",
      "298    50.0\n",
      "Name: age, Length: 299, dtype: float64>\n",
      "\n",
      "Death_event: \n",
      "<bound method NDFrame._add_numeric_operations.<locals>.std of 0      1\n",
      "1      1\n",
      "2      1\n",
      "3      1\n",
      "4      1\n",
      "      ..\n",
      "294    0\n",
      "295    0\n",
      "296    0\n",
      "297    0\n",
      "298    0\n",
      "Name: DEATH_EVENT, Length: 299, dtype: int64>\n",
      "\n",
      "Diabetes: \n",
      "<bound method Series.mode of 0      0\n",
      "1      0\n",
      "2      0\n",
      "3      0\n",
      "4      1\n",
      "      ..\n",
      "294    1\n",
      "295    0\n",
      "296    1\n",
      "297    0\n",
      "298    0\n",
      "Name: diabetes, Length: 299, dtype: int64>\n",
      "\n",
      "High blood pressure: \n",
      "<bound method Series.mode of 0      1\n",
      "1      0\n",
      "2      0\n",
      "3      0\n",
      "4      0\n",
      "      ..\n",
      "294    1\n",
      "295    0\n",
      "296    0\n",
      "297    0\n",
      "298    0\n",
      "Name: high_blood_pressure, Length: 299, dtype: int64>\n",
      "\n",
      "Anaemia: \n",
      "<bound method Series.mode of 0      0\n",
      "1      0\n",
      "2      0\n",
      "3      1\n",
      "4      1\n",
      "      ..\n",
      "294    0\n",
      "295    0\n",
      "296    0\n",
      "297    0\n",
      "298    0\n",
      "Name: anaemia, Length: 299, dtype: int64>\n",
      "\n"
     ]
    }
   ],
   "source": [
    "#C: Cleaning data and prepping for machine learning, the columns being used: sex, age, high_blood_pressure, diabetes, anaemia, DEATH_EVENT\n",
    "print(\"Sex: \")\n",
    "print(heart.sex.mode)\n",
    "print(\"\")\n",
    "\n",
    "#C: I believe there are some higher outliers within the age column, making the mean go higher\n",
    "print(\"Age: \")\n",
    "print(heart.age.mean)\n",
    "print(\"\")\n",
    "\n",
    "#C: Tells if there are more victims who died during the follow up period\n",
    "print(\"Death_event: \")\n",
    "print(heart.DEATH_EVENT.std)\n",
    "print(\"\")\n",
    "\n",
    "#C: Tells if there are more victims with or without diabetes\n",
    "print(\"Diabetes: \")\n",
    "print(heart.diabetes.mode)\n",
    "print(\"\")\n",
    "\n",
    "#C: Reveals if there are more victims with or without high blood pressure\n",
    "print(\"High blood pressure: \")\n",
    "print(heart.high_blood_pressure.mode)\n",
    "print(\"\")\n",
    "\n",
    "#C: Reveals if there are more victims that are anaemic or not\n",
    "print(\"Anaemia: \")\n",
    "print(heart.anaemia.mode)\n",
    "print(\"\")"
   ]
  },
  {
   "cell_type": "code",
   "execution_count": 14,
   "id": "de373d5e",
   "metadata": {},
   "outputs": [
    {
     "name": "stdout",
     "output_type": "stream",
     "text": [
      "There are a total of 299 heart failure victims. There are 105 female victims and 194 male victims.\n",
      "There are 89 more male victims than female ones.\n"
     ]
    }
   ],
   "source": [
    "#C: Figure out which gender has heart failure more\n",
    "total_num = 0\n",
    "total_fem = 0\n",
    "total_mal = 0\n",
    "for gender in heart.sex:\n",
    "    total_num += 1\n",
    "    if gender == 0:\n",
    "        total_fem += 1\n",
    "    else:\n",
    "        total_mal += 1\n",
    "        \n",
    "print(\"There are a total of \" +str(total_num)+ \" heart failure victims. There are \" +str(total_fem)+ \" female victims and \" +str(total_mal)+ \" male victims.\")\n",
    "print(\"There are \" +str(total_mal-total_fem)+ \" more male victims than female ones.\")\n",
    "        "
   ]
  },
  {
   "cell_type": "code",
   "execution_count": 15,
   "id": "0167b4b1",
   "metadata": {},
   "outputs": [
    {
     "name": "stdout",
     "output_type": "stream",
     "text": [
      "There are 44 victims out of 299 victims that have both diabetes and high blood pressure.\n",
      "About 34% of the victims have both.\n"
     ]
    }
   ],
   "source": [
    "#C: Find out how many heart failure victims have both high blood pressure and diabetes\n",
    "total_num_dia_high = 0\n",
    "for high in heart.high_blood_pressure:\n",
    "    if high == 1:\n",
    "        for diab in heart.diabetes:\n",
    "            if diab == 1:\n",
    "                total_num_dia_high += 1\n",
    "                \n",
    "print(\"There are \" +str(round(total_num_dia_high/total_num))+ \" victims out of \" +str(total_num)+ \" victims that have both diabetes and high blood pressure.\")\n",
    "print(\"About \" +str(round(44/129*100))+ \"% of the victims have both.\")"
   ]
  },
  {
   "cell_type": "code",
   "execution_count": 16,
   "id": "1fbfdcf9",
   "metadata": {},
   "outputs": [
    {
     "name": "stdout",
     "output_type": "stream",
     "text": [
      "There is a total number of 74 victims that are fifty years old or less.\n",
      "There is a total number of 32 victims that are fifty years old or less and have anaemia.\n",
      "About 11% of the victims are both fifty years old or less and have anaemia.\n"
     ]
    }
   ],
   "source": [
    "#C: Find how many victims fifty and under have anaemia\n",
    "total_num_age_ana = 0\n",
    "total_num_age = 0\n",
    "for age in heart.age:\n",
    "    if age <= 50.0:\n",
    "        total_num_age += 1\n",
    "        for ane in heart.anaemia:\n",
    "            if ane == 1:\n",
    "                total_num_age_ana += 1\n",
    "print(\"There is a total number of \" +str(total_num_age)+ \" victims that are fifty years old or less.\")\n",
    "print(\"There is a total number of \" +str(round(total_num_age_ana/total_num))+ \" victims that are fifty years old or less and have anaemia.\")\n",
    "print(\"About \" +str(round(32/299*100))+ \"% of the victims are both fifty years old or less and have anaemia.\")        "
   ]
  },
  {
   "cell_type": "code",
   "execution_count": 22,
   "id": "affecbbd",
   "metadata": {},
   "outputs": [
    {
     "name": "stdout",
     "output_type": "stream",
     "text": [
      "There are 96 victims that passed away.\n",
      "About 32% of the people during the follow up period passed away.\n",
      "Around every 1 in 3 victims die during the follow up period due to heart failure.\n"
     ]
    }
   ],
   "source": [
    "#C: Find the percentage of heart failure victims that died\n",
    "total_mort = 0\n",
    "for muerto in heart.DEATH_EVENT:\n",
    "    if muerto == 1:\n",
    "        total_mort += 1\n",
    "percent_mort = round((total_mort/total_num)*100)\n",
    "print(\"There are \" +str(total_mort)+ \" victims that passed away.\")\n",
    "print(\"About \" +str(percent_mort)+ \"% of the people during the follow up period passed away.\")\n",
    "print(\"Around every 1 in 3 victims die during the follow up period due to heart failure.\")"
   ]
  },
  {
   "cell_type": "code",
   "execution_count": null,
   "id": "a11ea40e",
   "metadata": {},
   "outputs": [],
   "source": []
  }
 ],
 "metadata": {
  "kernelspec": {
   "display_name": "Python 3 (ipykernel)",
   "language": "python",
   "name": "python3"
  },
  "language_info": {
   "codemirror_mode": {
    "name": "ipython",
    "version": 3
   },
   "file_extension": ".py",
   "mimetype": "text/x-python",
   "name": "python",
   "nbconvert_exporter": "python",
   "pygments_lexer": "ipython3",
   "version": "3.11.5"
  }
 },
 "nbformat": 4,
 "nbformat_minor": 5
}
