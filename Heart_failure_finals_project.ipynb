{
 "cells": [
  {
   "cell_type": "code",
   "execution_count": 3,
   "id": "236dc531",
   "metadata": {},
   "outputs": [
    {
     "name": "stdout",
     "output_type": "stream",
     "text": [
      "    age  anaemia  creatinine_phosphokinase  diabetes  ejection_fraction  \\\n",
      "0  75.0        0                       582         0                 20   \n",
      "1  55.0        0                      7861         0                 38   \n",
      "2  65.0        0                       146         0                 20   \n",
      "3  50.0        1                       111         0                 20   \n",
      "4  65.0        1                       160         1                 20   \n",
      "\n",
      "   high_blood_pressure  platelets  serum_creatinine  serum_sodium  sex  \\\n",
      "0                    1  265000.00               1.9           130    1   \n",
      "1                    0  263358.03               1.1           136    1   \n",
      "2                    0  162000.00               1.3           129    1   \n",
      "3                    0  210000.00               1.9           137    1   \n",
      "4                    0  327000.00               2.7           116    0   \n",
      "\n",
      "   smoking  time  DEATH_EVENT  \n",
      "0        0     4            1  \n",
      "1        0     6            1  \n",
      "2        1     7            1  \n",
      "3        0     7            1  \n",
      "4        0     8            1  \n"
     ]
    }
   ],
   "source": [
    "import pandas as pd\n",
    "import matplotlib.pyplot as plt\n",
    "import seaborn as sns\n",
    "\n",
    "heart = pd.read_csv('heart_failure.csv')\n",
    "print(heart.head())"
   ]
  },
  {
   "cell_type": "code",
   "execution_count": 4,
   "id": "de373d5e",
   "metadata": {},
   "outputs": [
    {
     "name": "stdout",
     "output_type": "stream",
     "text": [
      "There are a total of 299 heart failure victims. There are 105 female victims and 194 male victims.\n",
      "There are 89 more male victims than female ones.\n"
     ]
    }
   ],
   "source": [
    "#C: Figure out which gender has heart failure more\n",
    "total_num = 0\n",
    "total_fem = 0\n",
    "total_mal = 0\n",
    "for gender in heart.sex:\n",
    "    total_num += 1\n",
    "    if gender == 0:\n",
    "        total_fem += 1\n",
    "    else:\n",
    "        total_mal += 1\n",
    "        \n",
    "print(\"There are a total of \" +str(total_num)+ \" heart failure victims. There are \" +str(total_fem)+ \" female victims and \" +str(total_mal)+ \" male victims.\")\n",
    "print(\"There are \" +str(total_mal-total_fem)+ \" more male victims than female ones.\")\n",
    "        "
   ]
  },
  {
   "cell_type": "code",
   "execution_count": 5,
   "id": "0167b4b1",
   "metadata": {},
   "outputs": [
    {
     "name": "stdout",
     "output_type": "stream",
     "text": [
      "There are 44 victims out of 299 victims that have both diabetes and high blood pressure.\n",
      "About 34% of the victims have both.\n"
     ]
    }
   ],
   "source": [
    "#C: Find out how many heart failure victims have both high blood pressure and diabetes\n",
    "total_num_dia_high = 0\n",
    "for high in heart.high_blood_pressure:\n",
    "    if high == 1:\n",
    "        for diab in heart.diabetes:\n",
    "            if diab == 1:\n",
    "                total_num_dia_high += 1\n",
    "                \n",
    "print(\"There are \" +str(round(total_num_dia_high/total_num))+ \" victims out of \" +str(total_num)+ \" victims that have both diabetes and high blood pressure.\")\n",
    "print(\"About \" +str(round(44/129*100))+ \"% of the victims have both.\")"
   ]
  },
  {
   "cell_type": "code",
   "execution_count": 13,
   "id": "1fbfdcf9",
   "metadata": {},
   "outputs": [
    {
     "name": "stdout",
     "output_type": "stream",
     "text": [
      "There is a total number of 74 victims that are fifty years old or less.\n",
      "There is a total number of 32 victims that are fifty years old or less and have anaemia.\n",
      "About 11% of the victims are both fifty years old or less and have anaemia.\n"
     ]
    }
   ],
   "source": [
    "#C: Find how many victims fifty and under have anaemia\n",
    "total_num_age_ana = 0\n",
    "total_num_age = 0\n",
    "for age in heart.age:\n",
    "    if age <= 50.0:\n",
    "        total_num_age += 1\n",
    "        for ane in heart.anaemia:\n",
    "            if ane == 1:\n",
    "                total_num_age_ana += 1\n",
    "print(\"There is a total number of \" +str(total_num_age)+ \" victims that are fifty years old or less.\")\n",
    "print(\"There is a total number of \" +str(round(total_num_age_ana/total_num))+ \" victims that are fifty years old or less and have anaemia.\")\n",
    "print(\"About \" +str(round(32/299*100))+ \"% of the victims are both fifty years old or less and have anaemia.\")        "
   ]
  },
  {
   "cell_type": "code",
   "execution_count": 20,
   "id": "affecbbd",
   "metadata": {},
   "outputs": [
    {
     "name": "stdout",
     "output_type": "stream",
     "text": [
      "There are 96 victims that passed away.\n",
      "About 32% of the people in this data set passed away.\n",
      "Around every 1 in 3 victims dies due to heart failure.\n"
     ]
    }
   ],
   "source": [
    "#C: Find the percentage of heart failure victims that died\n",
    "total_mort = 0\n",
    "for muerto in heart.DEATH_EVENT:\n",
    "    if muerto == 1:\n",
    "        total_mort += 1\n",
    "percent_mort = round((total_mort/total_num)*100)\n",
    "print(\"There are \" +str(total_mort)+ \" victims that passed away.\")\n",
    "print(\"About \" +str(percent_mort)+ \"% of the people in this data set passed away.\")\n",
    "print(\"Around every 1 in 3 victims dies due to heart failure.\")"
   ]
  },
  {
   "cell_type": "code",
   "execution_count": null,
   "id": "a11ea40e",
   "metadata": {},
   "outputs": [],
   "source": []
  }
 ],
 "metadata": {
  "kernelspec": {
   "display_name": "Python 3 (ipykernel)",
   "language": "python",
   "name": "python3"
  },
  "language_info": {
   "codemirror_mode": {
    "name": "ipython",
    "version": 3
   },
   "file_extension": ".py",
   "mimetype": "text/x-python",
   "name": "python",
   "nbconvert_exporter": "python",
   "pygments_lexer": "ipython3",
   "version": "3.11.5"
  }
 },
 "nbformat": 4,
 "nbformat_minor": 5
}
